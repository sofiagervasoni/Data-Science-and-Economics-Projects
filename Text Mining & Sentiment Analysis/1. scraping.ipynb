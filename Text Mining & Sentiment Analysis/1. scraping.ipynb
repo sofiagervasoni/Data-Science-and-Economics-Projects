{
 "cells": [
  {
   "cell_type": "code",
   "execution_count": 16,
   "metadata": {},
   "outputs": [],
   "source": [
    "#!pip3 install beautifulsoup4"
   ]
  },
  {
   "cell_type": "code",
   "execution_count": 17,
   "metadata": {},
   "outputs": [],
   "source": [
    "# scraping\n",
    "from urllib.request import urlopen\n",
    "from bs4 import BeautifulSoup"
   ]
  },
  {
   "cell_type": "code",
   "execution_count": 18,
   "metadata": {},
   "outputs": [],
   "source": [
    "def scraping_tweet(url):\n",
    "    html = urlopen(url).read()\n",
    "    soup = BeautifulSoup(html, features=\"html.parser\")\n",
    "\n",
    "    # kill all script and style elements\n",
    "    for script in soup([\"script\", \"style\"]):\n",
    "        script.extract()    # rip it out\n",
    "\n",
    "    # get text\n",
    "    text = soup.get_text()\n",
    "\n",
    "    # break into lines and remove leading and trailing space on each\n",
    "    lines = (line.strip() for line in text.splitlines())\n",
    "    # break multi-headlines into a line each\n",
    "    chunks = (phrase.strip() for line in lines for phrase in line.split(\"  \"))\n",
    "    # drop blank lines\n",
    "    text = '\\n'.join(chunk for chunk in chunks if chunk)\n",
    "    return text"
   ]
  },
  {
   "cell_type": "code",
   "execution_count": 19,
   "metadata": {},
   "outputs": [],
   "source": [
    "# questa url di archivio di horoscope.com è costruita in modo tale che:\n",
    "# - dopo 'sign=' c'è il codice del segnon zodiacale (da 1 a 12)\n",
    "# - dopo 'Date=' c'è la data in forma 'yyymmdd' \n",
    "# \n",
    "#  \n",
    "\n",
    "url1 = 'https://www.horoscope.com/us/horoscopes/general/horoscope-archive.aspx?sign='\n",
    "url2 = '&laDate=2022'\n",
    "months = ['02', '03', '04', '05', '06', '07', '08', '09', '10', '11', '12']\n",
    "days = ['01', '02', '03', '04', '05', '06', '07', '08', '09', '10', '11', '12', '13', '14', '15', '16', '17', '18', '19', '20', '21', '22', '23', '24', '25', '26', '27', '28', '29', '30', '31']\n",
    "signs = ['1', '2', '3', '4', '5', '6', '7', '8', '9', '10', '11', '12']\n",
    "signs_real = ['Aries', 'Taurus', 'Gemini', 'Cancer', 'Leo', 'Virgo', 'Libra', 'Scorpio', 'Saggitarius', 'Capricorn', 'Acquarius', 'Pisces']\n",
    "horoscopes = []\n",
    "zodiacs = []\n",
    "\n",
    "\n",
    "for sign in range(len(signs)):\n",
    "    for month in months:\n",
    "        for day in days: \n",
    "            text = scraping_tweet(url1+signs[sign]+url2+month+day)\n",
    "            horoscope = text.split('\\n')[111]\n",
    "            horoscopes.append(horoscope)\n",
    "            zodiac = signs_real[sign]\n",
    "            zodiacs.append(zodiac)\n"
   ]
  },
  {
   "cell_type": "code",
   "execution_count": 22,
   "metadata": {},
   "outputs": [],
   "source": [
    "import pandas as pd\n",
    "data = {'Horoscope':horoscopes, 'Sign':zodiacs}\n",
    "df = pd.DataFrame(data = data)"
   ]
  },
  {
   "cell_type": "code",
   "execution_count": 24,
   "metadata": {},
   "outputs": [],
   "source": [
    "df.to_csv(r\"path to/horoscopedotcom.csv\", \n",
    "                index = False)"
   ]
  }
 ],
 "metadata": {
  "kernelspec": {
   "display_name": "Python 3",
   "language": "python",
   "name": "python3"
  },
  "language_info": {
   "codemirror_mode": {
    "name": "ipython",
    "version": 3
   },
   "file_extension": ".py",
   "mimetype": "text/x-python",
   "name": "python",
   "nbconvert_exporter": "python",
   "pygments_lexer": "ipython3",
   "version": "3.9.0"
  },
  "orig_nbformat": 4,
  "vscode": {
   "interpreter": {
    "hash": "1cce27c8212bf6c5aa96f33a3d1153887721b66c5c8cb9adeaa83cce09196b75"
   }
  }
 },
 "nbformat": 4,
 "nbformat_minor": 2
}
